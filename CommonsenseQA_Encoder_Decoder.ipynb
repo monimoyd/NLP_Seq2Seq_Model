{
  "nbformat": 4,
  "nbformat_minor": 0,
  "metadata": {
    "colab": {
      "name": "CommonsenseQA_encoder_decoder.ipynb",
      "provenance": []
    },
    "kernelspec": {
      "name": "python3",
      "display_name": "Python 3"
    },
    "accelerator": "GPU"
  },
  "cells": [
    {
      "cell_type": "code",
      "metadata": {
        "colab": {
          "base_uri": "https://localhost:8080/"
        },
        "id": "QThzHe_0TAO0",
        "outputId": "806afa6b-ff96-4c16-99af-66b85d4106f8"
      },
      "source": [
        "from google.colab import drive\r\n",
        "drive.mount('/content/drive')"
      ],
      "execution_count": null,
      "outputs": [
        {
          "output_type": "stream",
          "text": [
            "Drive already mounted at /content/drive; to attempt to forcibly remount, call drive.mount(\"/content/drive\", force_remount=True).\n"
          ],
          "name": "stdout"
        }
      ]
    },
    {
      "cell_type": "code",
      "metadata": {
        "id": "9hqlBZS-UnCF"
      },
      "source": [
        "project_path='/content/drive/My Drive/END/S9/CommonsqnseQA/'\r\n",
        "import json\r\n",
        "import gzip\r\n",
        "import pandas as pd\r\n",
        "import numpy as np\r\n",
        "from tqdm import tqdm\r\n",
        "import nltk\r\n",
        "import pickle\r\n",
        "import collections\r\n",
        "from pandas.io.json import json_normalize\r\n",
        "import re\r\n",
        "import os\r\n",
        "import random\r\n",
        "## Lets start the encoder processing for pytorch.\r\n",
        "import torch,time, numpy\r\n",
        "from torchtext.data import Field,BucketIterator\r\n",
        "from torchtext import data\r\n",
        "# Manual Seed\r\n",
        "SEED = 43\r\n",
        "torch.manual_seed(SEED)\r\n",
        "import torch.nn as nn"
      ],
      "execution_count": null,
      "outputs": []
    },
    {
      "cell_type": "code",
      "metadata": {
        "id": "AN6bdP-LTTX9"
      },
      "source": [
        "os.chdir(project_path)"
      ],
      "execution_count": null,
      "outputs": []
    },
    {
      "cell_type": "code",
      "metadata": {
        "colab": {
          "base_uri": "https://localhost:8080/",
          "height": 175
        },
        "id": "L9JHROk0U42U",
        "outputId": "326f33e9-f19b-4ce4-8441-2df58912c106"
      },
      "source": [
        "data_ls=[]\r\n",
        "with open('train_rand_split.jsonl', 'r') as f:\r\n",
        "    for line in f:\r\n",
        "        data_ls.append(json.loads(line))\r\n",
        "    extracted_data = json_normalize(data_ls)\r\n",
        "    extracted_data.columns = extracted_data.columns.map(lambda x: x.split(\".\")[-1])\r\n",
        "extracted_data.sample(3)"
      ],
      "execution_count": null,
      "outputs": [
        {
          "output_type": "stream",
          "text": [
            "/usr/local/lib/python3.6/dist-packages/ipykernel_launcher.py:5: FutureWarning: pandas.io.json.json_normalize is deprecated, use pandas.json_normalize instead\n",
            "  \"\"\"\n"
          ],
          "name": "stderr"
        },
        {
          "output_type": "execute_result",
          "data": {
            "text/html": [
              "<div>\n",
              "<style scoped>\n",
              "    .dataframe tbody tr th:only-of-type {\n",
              "        vertical-align: middle;\n",
              "    }\n",
              "\n",
              "    .dataframe tbody tr th {\n",
              "        vertical-align: top;\n",
              "    }\n",
              "\n",
              "    .dataframe thead th {\n",
              "        text-align: right;\n",
              "    }\n",
              "</style>\n",
              "<table border=\"1\" class=\"dataframe\">\n",
              "  <thead>\n",
              "    <tr style=\"text-align: right;\">\n",
              "      <th></th>\n",
              "      <th>answerKey</th>\n",
              "      <th>id</th>\n",
              "      <th>question_concept</th>\n",
              "      <th>choices</th>\n",
              "      <th>stem</th>\n",
              "    </tr>\n",
              "  </thead>\n",
              "  <tbody>\n",
              "    <tr>\n",
              "      <th>4903</th>\n",
              "      <td>D</td>\n",
              "      <td>8758b19506d321d2fc522527aa27d033</td>\n",
              "      <td>jellyfish</td>\n",
              "      <td>[{'label': 'A', 'text': 'book'}, {'label': 'B'...</td>\n",
              "      <td>Where could a jellyfish stay alive?</td>\n",
              "    </tr>\n",
              "    <tr>\n",
              "      <th>7187</th>\n",
              "      <td>E</td>\n",
              "      <td>cb8dbffde4c75a14c33e17be3c48f28b</td>\n",
              "      <td>fiddle</td>\n",
              "      <td>[{'label': 'A', 'text': 'dance hall'}, {'label...</td>\n",
              "      <td>Where would you go if you need a fiddle?</td>\n",
              "    </tr>\n",
              "    <tr>\n",
              "      <th>2001</th>\n",
              "      <td>A</td>\n",
              "      <td>a4df50f416a921ae3d7b3f1603514c66</td>\n",
              "      <td>launch platform</td>\n",
              "      <td>[{'label': 'A', 'text': 'nasa'}, {'label': 'B'...</td>\n",
              "      <td>The shuttle was inverted onto the launch platf...</td>\n",
              "    </tr>\n",
              "  </tbody>\n",
              "</table>\n",
              "</div>"
            ],
            "text/plain": [
              "     answerKey  ...                                               stem\n",
              "4903         D  ...                Where could a jellyfish stay alive?\n",
              "7187         E  ...           Where would you go if you need a fiddle?\n",
              "2001         A  ...  The shuttle was inverted onto the launch platf...\n",
              "\n",
              "[3 rows x 5 columns]"
            ]
          },
          "metadata": {
            "tags": []
          },
          "execution_count": 4
        }
      ]
    },
    {
      "cell_type": "code",
      "metadata": {
        "id": "LDZsX1Ws1N4y"
      },
      "source": [
        "def get_val(chlab,i):\r\n",
        "  dict_new={0:'choice_0',1:'choice_1',2:'choice_2',3:'choice_3',4:'choice_4',5:'choice_5'}\r\n",
        "  lab=dict_new.get(chlab)\r\n",
        "  val=extracted_data[lab][i]\r\n",
        "  return val"
      ],
      "execution_count": null,
      "outputs": []
    },
    {
      "cell_type": "code",
      "metadata": {
        "colab": {
          "base_uri": "https://localhost:8080/",
          "height": 241
        },
        "id": "SxnWSQtrW4Wi",
        "outputId": "ef15b31a-ea32-48b6-d43c-3174c28aff83"
      },
      "source": [
        "num_choices = len(extracted_data['choices'][0])\r\n",
        "\r\n",
        "def get_choices(options, val):\r\n",
        "    option = options[int(val)]\r\n",
        "    return option.get('text')\r\n",
        "\r\n",
        "choices = np.arange(num_choices)\r\n",
        "choices = choices.astype('str')\r\n",
        "for c in choices:\r\n",
        "    extracted_data['choice_' + c] = extracted_data['choices'].apply(lambda x: get_choices(x, c))\r\n",
        "answer_match = {'A':0, 'B':1, 'C':2, 'D':3, 'E':4}\r\n",
        "\r\n",
        "def get_label(answer):\r\n",
        "    return answer_match.get(answer)\r\n",
        "extracted_data['label'] = extracted_data['answerKey'].apply(lambda x: get_label(x))\r\n",
        "\r\n",
        "extracted_data.sample(3)"
      ],
      "execution_count": null,
      "outputs": [
        {
          "output_type": "execute_result",
          "data": {
            "text/html": [
              "<div>\n",
              "<style scoped>\n",
              "    .dataframe tbody tr th:only-of-type {\n",
              "        vertical-align: middle;\n",
              "    }\n",
              "\n",
              "    .dataframe tbody tr th {\n",
              "        vertical-align: top;\n",
              "    }\n",
              "\n",
              "    .dataframe thead th {\n",
              "        text-align: right;\n",
              "    }\n",
              "</style>\n",
              "<table border=\"1\" class=\"dataframe\">\n",
              "  <thead>\n",
              "    <tr style=\"text-align: right;\">\n",
              "      <th></th>\n",
              "      <th>answerKey</th>\n",
              "      <th>id</th>\n",
              "      <th>question_concept</th>\n",
              "      <th>choices</th>\n",
              "      <th>stem</th>\n",
              "      <th>choice_0</th>\n",
              "      <th>choice_1</th>\n",
              "      <th>choice_2</th>\n",
              "      <th>choice_3</th>\n",
              "      <th>choice_4</th>\n",
              "      <th>label</th>\n",
              "    </tr>\n",
              "  </thead>\n",
              "  <tbody>\n",
              "    <tr>\n",
              "      <th>320</th>\n",
              "      <td>B</td>\n",
              "      <td>559ae2b0bfc4b4e66e1acea8b11b485d</td>\n",
              "      <td>reproducing</td>\n",
              "      <td>[{'label': 'A', 'text': 'overpopulation'}, {'l...</td>\n",
              "      <td>There's a lot to reproducing, but it begins an...</td>\n",
              "      <td>overpopulation</td>\n",
              "      <td>birth</td>\n",
              "      <td>presents</td>\n",
              "      <td>propagation</td>\n",
              "      <td>fun</td>\n",
              "      <td>1</td>\n",
              "    </tr>\n",
              "    <tr>\n",
              "      <th>6775</th>\n",
              "      <td>D</td>\n",
              "      <td>730da7dc9ea5754702c0598b64651de3</td>\n",
              "      <td>drop of blood</td>\n",
              "      <td>[{'label': 'A', 'text': 'during a fight'}, {'l...</td>\n",
              "      <td>Where will more than a drop of blood be spilt?</td>\n",
              "      <td>during a fight</td>\n",
              "      <td>needle</td>\n",
              "      <td>person</td>\n",
              "      <td>battlefield</td>\n",
              "      <td>test tube</td>\n",
              "      <td>3</td>\n",
              "    </tr>\n",
              "    <tr>\n",
              "      <th>2055</th>\n",
              "      <td>E</td>\n",
              "      <td>a89fecc27192efbd67629bec05d64b10</td>\n",
              "      <td>fallen leaves</td>\n",
              "      <td>[{'label': 'A', 'text': 'forest'}, {'label': '...</td>\n",
              "      <td>James raked fallen leaves into a pile. Where m...</td>\n",
              "      <td>forest</td>\n",
              "      <td>roof</td>\n",
              "      <td>garden</td>\n",
              "      <td>tree</td>\n",
              "      <td>ground</td>\n",
              "      <td>4</td>\n",
              "    </tr>\n",
              "  </tbody>\n",
              "</table>\n",
              "</div>"
            ],
            "text/plain": [
              "     answerKey                                id  ...   choice_4 label\n",
              "320          B  559ae2b0bfc4b4e66e1acea8b11b485d  ...        fun     1\n",
              "6775         D  730da7dc9ea5754702c0598b64651de3  ...  test tube     3\n",
              "2055         E  a89fecc27192efbd67629bec05d64b10  ...     ground     4\n",
              "\n",
              "[3 rows x 11 columns]"
            ]
          },
          "metadata": {
            "tags": []
          },
          "execution_count": 6
        }
      ]
    },
    {
      "cell_type": "code",
      "metadata": {
        "id": "7bNmOXoKCGny"
      },
      "source": [
        "lst=[]\r\n",
        "shp=extracted_data['label'].shape[0]\r\n",
        "for i in range(shp):\r\n",
        "  X=extracted_data['label'][i]\r\n",
        "  res=get_val(X,i)\r\n",
        "  lst.append(res)\r\n",
        "\r\n",
        "extracted_data['lab_value']=lst  \r\n"
      ],
      "execution_count": null,
      "outputs": []
    },
    {
      "cell_type": "code",
      "metadata": {
        "colab": {
          "base_uri": "https://localhost:8080/",
          "height": 306
        },
        "id": "nuUcqeh2SOIi",
        "outputId": "bca56b25-c48b-4a90-a292-9d714472ef4e"
      },
      "source": [
        "extracted_data.sample(4)"
      ],
      "execution_count": null,
      "outputs": [
        {
          "output_type": "execute_result",
          "data": {
            "text/html": [
              "<div>\n",
              "<style scoped>\n",
              "    .dataframe tbody tr th:only-of-type {\n",
              "        vertical-align: middle;\n",
              "    }\n",
              "\n",
              "    .dataframe tbody tr th {\n",
              "        vertical-align: top;\n",
              "    }\n",
              "\n",
              "    .dataframe thead th {\n",
              "        text-align: right;\n",
              "    }\n",
              "</style>\n",
              "<table border=\"1\" class=\"dataframe\">\n",
              "  <thead>\n",
              "    <tr style=\"text-align: right;\">\n",
              "      <th></th>\n",
              "      <th>answerKey</th>\n",
              "      <th>id</th>\n",
              "      <th>question_concept</th>\n",
              "      <th>choices</th>\n",
              "      <th>stem</th>\n",
              "      <th>choice_0</th>\n",
              "      <th>choice_1</th>\n",
              "      <th>choice_2</th>\n",
              "      <th>choice_3</th>\n",
              "      <th>choice_4</th>\n",
              "      <th>label</th>\n",
              "      <th>lab_value</th>\n",
              "    </tr>\n",
              "  </thead>\n",
              "  <tbody>\n",
              "    <tr>\n",
              "      <th>1529</th>\n",
              "      <td>A</td>\n",
              "      <td>732b435c999691b1184315dca0bf3d0c</td>\n",
              "      <td>police</td>\n",
              "      <td>[{'label': 'A', 'text': 'board vessels'}, {'la...</td>\n",
              "      <td>The Coast Guard is a police force that often d...</td>\n",
              "      <td>board vessels</td>\n",
              "      <td>direct traffic</td>\n",
              "      <td>ocean</td>\n",
              "      <td>force law</td>\n",
              "      <td>arrest</td>\n",
              "      <td>0</td>\n",
              "      <td>board vessels</td>\n",
              "    </tr>\n",
              "    <tr>\n",
              "      <th>3433</th>\n",
              "      <td>E</td>\n",
              "      <td>d328ffdc5d8a18b45200e6701576d2b0</td>\n",
              "      <td>fire</td>\n",
              "      <td>[{'label': 'A', 'text': 'emits light'}, {'labe...</td>\n",
              "      <td>Bob lights a fire in the wood stove in the win...</td>\n",
              "      <td>emits light</td>\n",
              "      <td>warm hands</td>\n",
              "      <td>boil water</td>\n",
              "      <td>emit light</td>\n",
              "      <td>warm house</td>\n",
              "      <td>4</td>\n",
              "      <td>warm house</td>\n",
              "    </tr>\n",
              "    <tr>\n",
              "      <th>4490</th>\n",
              "      <td>C</td>\n",
              "      <td>eff865a55bff055dc740f6217fbc512b</td>\n",
              "      <td>divine</td>\n",
              "      <td>[{'label': 'A', 'text': 'godless'}, {'label': ...</td>\n",
              "      <td>Someone who doesn't believe in the divine coul...</td>\n",
              "      <td>godless</td>\n",
              "      <td>humdrum</td>\n",
              "      <td>godless</td>\n",
              "      <td>horrible</td>\n",
              "      <td>undivine</td>\n",
              "      <td>2</td>\n",
              "      <td>godless</td>\n",
              "    </tr>\n",
              "    <tr>\n",
              "      <th>6412</th>\n",
              "      <td>C</td>\n",
              "      <td>040f2c6071932ad5aabab709d6220b3b</td>\n",
              "      <td>machines</td>\n",
              "      <td>[{'label': 'A', 'text': 'turn jars'}, {'label'...</td>\n",
              "      <td>Why do manufacturers have many machines?</td>\n",
              "      <td>turn jars</td>\n",
              "      <td>perform work</td>\n",
              "      <td>produce products</td>\n",
              "      <td>answering questions</td>\n",
              "      <td>serve humanity</td>\n",
              "      <td>2</td>\n",
              "      <td>produce products</td>\n",
              "    </tr>\n",
              "  </tbody>\n",
              "</table>\n",
              "</div>"
            ],
            "text/plain": [
              "     answerKey                                id  ... label         lab_value\n",
              "1529         A  732b435c999691b1184315dca0bf3d0c  ...     0     board vessels\n",
              "3433         E  d328ffdc5d8a18b45200e6701576d2b0  ...     4        warm house\n",
              "4490         C  eff865a55bff055dc740f6217fbc512b  ...     2           godless\n",
              "6412         C  040f2c6071932ad5aabab709d6220b3b  ...     2  produce products\n",
              "\n",
              "[4 rows x 12 columns]"
            ]
          },
          "metadata": {
            "tags": []
          },
          "execution_count": 8
        }
      ]
    },
    {
      "cell_type": "code",
      "metadata": {
        "id": "NKAMEuKwRQBz"
      },
      "source": [
        "SRC = Field(tokenize = 'spacy', \r\n",
        "            init_token = '<sos>', \r\n",
        "            eos_token = '<eos>', \r\n",
        "            lower = True)\r\n",
        "\r\n",
        "TRG = Field(tokenize = 'spacy', \r\n",
        "            init_token = '<sos>', \r\n",
        "            eos_token = '<eos>', \r\n",
        "            lower = True)"
      ],
      "execution_count": null,
      "outputs": []
    },
    {
      "cell_type": "code",
      "metadata": {
        "id": "6JMUwtfGRWWt"
      },
      "source": [
        "#fields = [('stem', SRC),('lab_value',TRG)]\r\n",
        "fields = [('src', SRC),('trg',TRG)]"
      ],
      "execution_count": null,
      "outputs": []
    },
    {
      "cell_type": "code",
      "metadata": {
        "id": "h9C-T1BDR2DH"
      },
      "source": [
        "example = [data.Example.fromlist([extracted_data.stem[i],extracted_data.lab_value[i]], fields) for i in range(extracted_data.shape[0])] "
      ],
      "execution_count": null,
      "outputs": []
    },
    {
      "cell_type": "code",
      "metadata": {
        "id": "wW4aWKw8VpUV"
      },
      "source": [
        "QAdataset = data.Dataset(example, fields)"
      ],
      "execution_count": null,
      "outputs": []
    },
    {
      "cell_type": "code",
      "metadata": {
        "colab": {
          "base_uri": "https://localhost:8080/"
        },
        "id": "5d8IVxukVz96",
        "outputId": "af241c70-b65c-4d91-f080-1f58b44cc7cc"
      },
      "source": [
        "print(type(QAdataset)) ## the data set is ready."
      ],
      "execution_count": null,
      "outputs": [
        {
          "output_type": "stream",
          "text": [
            "torchtext.data.dataset.Dataset\n"
          ],
          "name": "stdout"
        }
      ]
    },
    {
      "cell_type": "code",
      "metadata": {
        "id": "16GhxhAtV7C1"
      },
      "source": [
        "(train_data, valid_data) = QAdataset.split(split_ratio=[0.85, 0.15], random_state=random.seed(SEED))"
      ],
      "execution_count": null,
      "outputs": []
    },
    {
      "cell_type": "code",
      "metadata": {
        "colab": {
          "base_uri": "https://localhost:8080/"
        },
        "id": "g6KQwN75WXbs",
        "outputId": "41c1c1f6-1c1d-453c-988e-05fadf5b35a1"
      },
      "source": [
        "vars(train_data.examples[6])"
      ],
      "execution_count": null,
      "outputs": [
        {
          "output_type": "execute_result",
          "data": {
            "text/plain": [
              "{'src': ['a',\n",
              "  'percussion',\n",
              "  'instrument',\n",
              "  'can',\n",
              "  'be',\n",
              "  'obtained',\n",
              "  'in',\n",
              "  'what',\n",
              "  'sort',\n",
              "  'of',\n",
              "  'place',\n",
              "  '?'],\n",
              " 'trg': ['music', 'store']}"
            ]
          },
          "metadata": {
            "tags": []
          },
          "execution_count": 15
        }
      ]
    },
    {
      "cell_type": "code",
      "metadata": {
        "id": "1Ud1V6PPWpV6"
      },
      "source": [
        "## building vocabulary.\r\n",
        "SRC.build_vocab(train_data)\r\n",
        "TRG.build_vocab(train_data)"
      ],
      "execution_count": null,
      "outputs": []
    },
    {
      "cell_type": "code",
      "metadata": {
        "colab": {
          "base_uri": "https://localhost:8080/"
        },
        "id": "GtJI47o_Y9gL",
        "outputId": "1041ad22-4803-4fe4-cbfc-9205c7d8b88e"
      },
      "source": [
        "print(f\"Unique tokens in source vocabulary: {len(SRC.vocab)}\")\r\n",
        "print(f\"Unique tokens in target  vocabulary: {len(TRG.vocab)}\")"
      ],
      "execution_count": null,
      "outputs": [
        {
          "output_type": "stream",
          "text": [
            "Unique tokens in source vocabulary: 7562\n",
            "Unique tokens in target  vocabulary: 3513\n"
          ],
          "name": "stdout"
        }
      ]
    },
    {
      "cell_type": "code",
      "metadata": {
        "colab": {
          "base_uri": "https://localhost:8080/"
        },
        "id": "D2X5hRp-ZAz1",
        "outputId": "b0b0104c-d7b8-4253-a275-42215bbfcdc2"
      },
      "source": [
        "device = torch.device('cuda' if torch.cuda.is_available() else 'cpu')\r\n",
        "print('device is' , device)"
      ],
      "execution_count": null,
      "outputs": [
        {
          "output_type": "stream",
          "text": [
            "device is cuda\n"
          ],
          "name": "stdout"
        }
      ]
    },
    {
      "cell_type": "code",
      "metadata": {
        "id": "g2RgT7XaZEXX"
      },
      "source": [
        "BATCH_SIZE = 128\r\n",
        "\r\n",
        "train_iterator, valid_iterator = BucketIterator.splits(\r\n",
        "    (train_data, valid_data), \r\n",
        "    batch_size = BATCH_SIZE, \r\n",
        "     sort_key = lambda x: len(x.src), ## imp lines\r\n",
        "    sort_within_batch=True,   ## imp lines \r\n",
        "    device = device)"
      ],
      "execution_count": null,
      "outputs": []
    },
    {
      "cell_type": "code",
      "metadata": {
        "id": "1xscqSzZZKmQ"
      },
      "source": [
        "## building Seq2Seq model.\r\n",
        "\r\n",
        "class Encoder(nn.Module):\r\n",
        "    def __init__(self, input_dim, emb_dim, hid_dim, n_layers, dropout):\r\n",
        "        super().__init__()\r\n",
        "        \r\n",
        "        self.hid_dim = hid_dim\r\n",
        "        self.n_layers = n_layers\r\n",
        "        \r\n",
        "        self.embedding = nn.Embedding(input_dim, emb_dim)\r\n",
        "        \r\n",
        "        self.rnn = nn.LSTM(emb_dim, hid_dim, n_layers, dropout = dropout)\r\n",
        "        # Here you can use nn.GRU(emb_dim, hid_dim) or \r\n",
        "        # nn.RNN(emb_dim, hid_dim, n_layers, dropout = dropout)\r\n",
        "        \r\n",
        "        self.dropout = nn.Dropout(dropout)\r\n",
        "        \r\n",
        "    def forward(self, src):\r\n",
        "        \r\n",
        "        #src = [src len, batch size]\r\n",
        "        \r\n",
        "        embedded = self.dropout(self.embedding(src))\r\n",
        "        \r\n",
        "        #embedded = [src len, batch size, emb dim]\r\n",
        "        \r\n",
        "        outputs, (hidden, cell) = self.rnn(embedded)\r\n",
        "        \r\n",
        "        #outputs = [src len, batch size, hid dim * n directions]\r\n",
        "        #hidden = [n layers * n directions, batch size, hid dim]\r\n",
        "        #cell = [n layers * n directions, batch size, hid dim]\r\n",
        "        \r\n",
        "        #outputs are always from the top hidden layer\r\n",
        "        \r\n",
        "        return hidden, cell"
      ],
      "execution_count": null,
      "outputs": []
    },
    {
      "cell_type": "code",
      "metadata": {
        "id": "PLong1BlZX6w"
      },
      "source": [
        "## decoder.\r\n",
        "class Decoder(nn.Module):\r\n",
        "    def __init__(self, output_dim, emb_dim, hid_dim, n_layers, dropout):\r\n",
        "        super().__init__()\r\n",
        "        \r\n",
        "        self.output_dim = output_dim\r\n",
        "        self.hid_dim = hid_dim\r\n",
        "        self.n_layers = n_layers\r\n",
        "        \r\n",
        "        self.embedding = nn.Embedding(output_dim, emb_dim)\r\n",
        "        \r\n",
        "        self.rnn = nn.LSTM(emb_dim, hid_dim, n_layers, dropout = dropout)\r\n",
        "        \r\n",
        "        self.fc_out = nn.Linear(hid_dim, output_dim)\r\n",
        "        \r\n",
        "        self.dropout = nn.Dropout(dropout)\r\n",
        "        \r\n",
        "    def forward(self, input, hidden, cell):\r\n",
        "        \r\n",
        "        #input = [batch size]\r\n",
        "        #hidden = [n layers * n directions, batch size, hid dim]\r\n",
        "        #cell = [n layers * n directions, batch size, hid dim]\r\n",
        "        \r\n",
        "        #n directions in the decoder will both always be 1, therefore:\r\n",
        "        #hidden = [n layers, batch size, hid dim]\r\n",
        "        #context = [n layers, batch size, hid dim]\r\n",
        "        \r\n",
        "        input = input.unsqueeze(0)\r\n",
        "        \r\n",
        "        #input = [1, batch size]\r\n",
        "        \r\n",
        "        embedded = self.dropout(self.embedding(input))\r\n",
        "        \r\n",
        "        #embedded = [1, batch size, emb dim]\r\n",
        "                \r\n",
        "        output, (hidden, cell) = self.rnn(embedded, (hidden, cell))\r\n",
        "        \r\n",
        "        #output = [seq len, batch size, hid dim * n directions]\r\n",
        "        #hidden = [n layers * n directions, batch size, hid dim]\r\n",
        "        #cell = [n layers * n directions, batch size, hid dim]\r\n",
        "        \r\n",
        "        #seq len and n directions will always be 1 in the decoder, therefore:\r\n",
        "        #output = [1, batch size, hid dim]\r\n",
        "        #hidden = [n layers, batch size, hid dim]\r\n",
        "        #cell = [n layers, batch size, hid dim]\r\n",
        "        \r\n",
        "        prediction = self.fc_out(output.squeeze(0))\r\n",
        "        \r\n",
        "        #prediction = [batch size, output dim]\r\n",
        "        \r\n",
        "        return prediction, hidden, cell"
      ],
      "execution_count": null,
      "outputs": []
    },
    {
      "cell_type": "code",
      "metadata": {
        "id": "rN6Kyk2ZZdkZ"
      },
      "source": [
        "## Seq2seq.\r\n",
        "class Seq2Seq(nn.Module):\r\n",
        "    def __init__(self, encoder, decoder, device):\r\n",
        "        super().__init__()\r\n",
        "        \r\n",
        "        self.encoder = encoder\r\n",
        "        self.decoder = decoder\r\n",
        "        self.device = device\r\n",
        "        \r\n",
        "        assert encoder.hid_dim == decoder.hid_dim, \\\r\n",
        "            \"Hidden dimensions of encoder and decoder must be equal!\"\r\n",
        "        assert encoder.n_layers == decoder.n_layers, \\\r\n",
        "            \"Encoder and decoder must have equal number of layers!\"\r\n",
        "        \r\n",
        "    def forward(self, src, trg, teacher_forcing_ratio = 0.5):\r\n",
        "        \r\n",
        "        #src = [src len, batch size]\r\n",
        "        #trg = [trg len, batch size]\r\n",
        "        #teacher_forcing_ratio is probability to use teacher forcing\r\n",
        "        #e.g. if teacher_forcing_ratio is 0.75 we use ground-truth inputs 75% of the time\r\n",
        "        \r\n",
        "        batch_size = trg.shape[1]\r\n",
        "        trg_len = trg.shape[0]\r\n",
        "        trg_vocab_size = self.decoder.output_dim\r\n",
        "        \r\n",
        "        #tensor to store decoder outputs\r\n",
        "        outputs = torch.zeros(trg_len, batch_size, trg_vocab_size).to(self.device)\r\n",
        "        \r\n",
        "        #last hidden state of the encoder is used as the initial hidden state of the decoder\r\n",
        "        hidden, cell = self.encoder(src)\r\n",
        "        \r\n",
        "        #first input to the decoder is the <sos> tokens\r\n",
        "        input = trg[0,:]\r\n",
        "        \r\n",
        "        for t in range(1, trg_len):\r\n",
        "            \r\n",
        "            #insert input token embedding, previous hidden and previous cell states\r\n",
        "            #receive output tensor (predictions) and new hidden and cell states\r\n",
        "            output, hidden, cell = self.decoder(input, hidden, cell)\r\n",
        "            \r\n",
        "            #place predictions in a tensor holding predictions for each token\r\n",
        "            outputs[t] = output\r\n",
        "            \r\n",
        "            #decide if we are going to use teacher forcing or not\r\n",
        "            teacher_force = random.random() < teacher_forcing_ratio\r\n",
        "            \r\n",
        "            #get the highest predicted token from our predictions\r\n",
        "            top1 = output.argmax(1) \r\n",
        "            \r\n",
        "            #if teacher forcing, use actual next token as next input\r\n",
        "            #if not, use predicted token\r\n",
        "            input = trg[t] if teacher_force else top1\r\n",
        "        \r\n",
        "        return outputs"
      ],
      "execution_count": null,
      "outputs": []
    },
    {
      "cell_type": "code",
      "metadata": {
        "id": "oiojVqPsQozH"
      },
      "source": [
        "## training the model.\r\n",
        "INPUT_DIM = len(SRC.vocab)\r\n",
        "OUTPUT_DIM = len(TRG.vocab)\r\n",
        "ENC_EMB_DIM = 256\r\n",
        "DEC_EMB_DIM = 256\r\n",
        "HID_DIM = 512\r\n",
        "N_LAYERS = 2\r\n",
        "ENC_DROPOUT = 0.5\r\n",
        "DEC_DROPOUT = 0.5\r\n",
        "\r\n",
        "enc = Encoder(INPUT_DIM, ENC_EMB_DIM, HID_DIM, N_LAYERS, ENC_DROPOUT)\r\n",
        "dec = Decoder(OUTPUT_DIM, DEC_EMB_DIM, HID_DIM, N_LAYERS, DEC_DROPOUT)\r\n",
        "\r\n",
        "model = Seq2Seq(enc, dec, device).to(device)"
      ],
      "execution_count": null,
      "outputs": []
    },
    {
      "cell_type": "code",
      "metadata": {
        "colab": {
          "base_uri": "https://localhost:8080/"
        },
        "id": "zNfnPF4AQt90",
        "outputId": "3bbad004-dbd5-4c6a-ca93-8305c92e6b60"
      },
      "source": [
        "def count_parameters(model):\r\n",
        "    return sum(p.numel() for p in model.parameters() if p.requires_grad)\r\n",
        "\r\n",
        "print(f'The model has {count_parameters(model):,} trainable parameters')"
      ],
      "execution_count": null,
      "outputs": [
        {
          "output_type": "stream",
          "text": [
            "The model has 11,993,785 trainable parameters\n"
          ],
          "name": "stdout"
        }
      ]
    },
    {
      "cell_type": "code",
      "metadata": {
        "id": "5EOaaE4hQ0gh"
      },
      "source": [
        "## define the optimizer, padding and the criterion(loss function)\r\n",
        "import torch.optim as optim\r\n",
        "optimizer = optim.Adam(model.parameters())\r\n",
        "TRG_PAD_IDX = TRG.vocab.stoi[TRG.pad_token]\r\n",
        "\r\n",
        "criterion = nn.CrossEntropyLoss(ignore_index = TRG_PAD_IDX)"
      ],
      "execution_count": null,
      "outputs": []
    },
    {
      "cell_type": "code",
      "metadata": {
        "id": "29p5r0iPROBY"
      },
      "source": [
        "## define the training loop.\r\n",
        "def train(model, iterator, optimizer, criterion, clip):\r\n",
        "    \r\n",
        "    model.train()\r\n",
        "    \r\n",
        "    epoch_loss = 0\r\n",
        "    \r\n",
        "    for i, batch in enumerate(iterator):\r\n",
        "        \r\n",
        "        src = batch.src\r\n",
        "        trg = batch.trg\r\n",
        "        \r\n",
        "        optimizer.zero_grad()\r\n",
        "        \r\n",
        "        output = model(src, trg)\r\n",
        "        \r\n",
        "        #trg = [trg len, batch size]\r\n",
        "        #output = [trg len, batch size, output dim]\r\n",
        "        \r\n",
        "        output_dim = output.shape[-1]\r\n",
        "        \r\n",
        "        output = output[1:].view(-1, output_dim)\r\n",
        "        trg = trg[1:].view(-1)\r\n",
        "        \r\n",
        "        #trg = [(trg len - 1) * batch size]\r\n",
        "        #output = [(trg len - 1) * batch size, output dim]\r\n",
        "        \r\n",
        "        loss = criterion(output, trg)\r\n",
        "        \r\n",
        "        loss.backward()\r\n",
        "        \r\n",
        "        torch.nn.utils.clip_grad_norm_(model.parameters(), clip)\r\n",
        "        \r\n",
        "        optimizer.step()\r\n",
        "        \r\n",
        "        epoch_loss += loss.item()\r\n",
        "        \r\n",
        "    return epoch_loss / len(iterator)"
      ],
      "execution_count": null,
      "outputs": []
    },
    {
      "cell_type": "code",
      "metadata": {
        "id": "5omsmc7rRTc2"
      },
      "source": [
        "## Define the eval loop.\r\n",
        "def evaluate(model, iterator, criterion):\r\n",
        "    \r\n",
        "    model.eval()\r\n",
        "    \r\n",
        "    epoch_loss = 0\r\n",
        "    \r\n",
        "    with torch.no_grad():\r\n",
        "    \r\n",
        "        for i, batch in enumerate(iterator):\r\n",
        "\r\n",
        "            src = batch.src\r\n",
        "            trg = batch.trg\r\n",
        "\r\n",
        "            output = model(src, trg, 0) #turn off teacher forcing\r\n",
        "\r\n",
        "            #trg = [trg len, batch size]\r\n",
        "            #output = [trg len, batch size, output dim]\r\n",
        "\r\n",
        "            output_dim = output.shape[-1]\r\n",
        "            \r\n",
        "            output = output[1:].view(-1, output_dim)\r\n",
        "            trg = trg[1:].view(-1)\r\n",
        "\r\n",
        "            #trg = [(trg len - 1) * batch size]\r\n",
        "            #output = [(trg len - 1) * batch size, output dim]\r\n",
        "\r\n",
        "            loss = criterion(output, trg)\r\n",
        "            \r\n",
        "            epoch_loss += loss.item()\r\n",
        "        \r\n",
        "    return epoch_loss / len(iterator)"
      ],
      "execution_count": null,
      "outputs": []
    },
    {
      "cell_type": "code",
      "metadata": {
        "id": "yLqUr7dmRYJ1"
      },
      "source": [
        "## define the function to factor the training time.\r\n",
        "def epoch_time(start_time, end_time):\r\n",
        "    elapsed_time = end_time - start_time\r\n",
        "    elapsed_mins = int(elapsed_time / 60)\r\n",
        "    elapsed_secs = int(elapsed_time - (elapsed_mins * 60))\r\n",
        "    return elapsed_mins, elapsed_secs"
      ],
      "execution_count": null,
      "outputs": []
    },
    {
      "cell_type": "code",
      "metadata": {
        "colab": {
          "base_uri": "https://localhost:8080/"
        },
        "id": "XdkUomh1RejK",
        "outputId": "c80ae164-057b-4d82-fead-b1ee9a9990e8"
      },
      "source": [
        "## training the model.\r\n",
        "import torch\r\n",
        "import torch.nn as nn\r\n",
        "import torch.optim as optim\r\n",
        "\r\n",
        "from torchtext.datasets import Multi30k\r\n",
        "from torchtext.data import Field, BucketIterator\r\n",
        "\r\n",
        "import spacy\r\n",
        "import numpy as np\r\n",
        "\r\n",
        "import random\r\n",
        "import math\r\n",
        "import time\r\n",
        "N_EPOCHS = 10\r\n",
        "CLIP = 1\r\n",
        "\r\n",
        "best_valid_loss = float('inf')\r\n",
        "\r\n",
        "for epoch in range(N_EPOCHS):\r\n",
        "    \r\n",
        "    start_time = time.time()\r\n",
        "    \r\n",
        "    train_loss = train(model, train_iterator, optimizer, criterion, CLIP)\r\n",
        "    valid_loss = evaluate(model, valid_iterator, criterion)\r\n",
        "    \r\n",
        "    end_time = time.time()\r\n",
        "    \r\n",
        "    epoch_mins, epoch_secs = epoch_time(start_time, end_time)\r\n",
        "    \r\n",
        "    if valid_loss < best_valid_loss:\r\n",
        "        best_valid_loss = valid_loss\r\n",
        "        torch.save(model.state_dict(), 'tut1-model.pt')\r\n",
        "    \r\n",
        "    print(f'Epoch: {epoch+1:02} | Time: {epoch_mins}m {epoch_secs}s')\r\n",
        "    print(f'\\tTrain Loss: {train_loss:.3f} | Train PPL: {math.exp(train_loss):7.3f}')\r\n",
        "    print(f'\\t Val. Loss: {valid_loss:.3f} |  Val. PPL: {math.exp(valid_loss):7.3f}')"
      ],
      "execution_count": null,
      "outputs": [
        {
          "output_type": "stream",
          "text": [
            "Epoch: 01 | Time: 0m 2s\n",
            "\tTrain Loss: 8.161 | Train PPL: 3501.868\n",
            "\t Val. Loss: 8.163 |  Val. PPL: 3509.131\n",
            "Epoch: 02 | Time: 0m 2s\n",
            "\tTrain Loss: 8.161 | Train PPL: 3502.055\n",
            "\t Val. Loss: 8.163 |  Val. PPL: 3509.131\n",
            "Epoch: 03 | Time: 0m 2s\n",
            "\tTrain Loss: 8.161 | Train PPL: 3501.544\n",
            "\t Val. Loss: 8.163 |  Val. PPL: 3509.131\n",
            "Epoch: 04 | Time: 0m 2s\n",
            "\tTrain Loss: 8.161 | Train PPL: 3501.129\n",
            "\t Val. Loss: 8.163 |  Val. PPL: 3509.131\n",
            "Epoch: 05 | Time: 0m 2s\n",
            "\tTrain Loss: 8.161 | Train PPL: 3501.220\n",
            "\t Val. Loss: 8.163 |  Val. PPL: 3509.131\n",
            "Epoch: 06 | Time: 0m 2s\n",
            "\tTrain Loss: 8.161 | Train PPL: 3501.891\n",
            "\t Val. Loss: 8.163 |  Val. PPL: 3509.131\n",
            "Epoch: 07 | Time: 0m 2s\n",
            "\tTrain Loss: 8.161 | Train PPL: 3501.764\n",
            "\t Val. Loss: 8.163 |  Val. PPL: 3509.131\n",
            "Epoch: 08 | Time: 0m 2s\n",
            "\tTrain Loss: 8.161 | Train PPL: 3501.875\n",
            "\t Val. Loss: 8.163 |  Val. PPL: 3509.131\n",
            "Epoch: 09 | Time: 0m 2s\n",
            "\tTrain Loss: 8.161 | Train PPL: 3501.036\n",
            "\t Val. Loss: 8.163 |  Val. PPL: 3509.131\n",
            "Epoch: 10 | Time: 0m 2s\n",
            "\tTrain Loss: 8.161 | Train PPL: 3502.751\n",
            "\t Val. Loss: 8.163 |  Val. PPL: 3509.131\n"
          ],
          "name": "stdout"
        }
      ]
    }
  ]
}